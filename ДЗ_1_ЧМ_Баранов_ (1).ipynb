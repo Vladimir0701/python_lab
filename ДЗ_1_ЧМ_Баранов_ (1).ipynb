{
 "cells": [
  {
   "cell_type": "markdown",
   "id": "e136bbb0-f506-49d7-9b85-5340cd19f65e",
   "metadata": {},
   "source": [
    "# Метод половинного деления"
   ]
  },
  {
   "cell_type": "code",
   "execution_count": 1,
   "id": "e8255d5f-d821-472e-a371-69d6dd6996b9",
   "metadata": {},
   "outputs": [
    {
     "name": "stdout",
     "output_type": "stream",
     "text": [
      "Найденный корень: 1.5213804244995117\n"
     ]
    }
   ],
   "source": [
    "def bisection_method(f, a, b, tol=1e-6, max_iter=100):\n",
    "    if f(a) * f(b) >= 0:\n",
    "        return None\n",
    "\n",
    "    iter_count = 0\n",
    "    while (b - a) / 2 > tol and iter_count < max_iter:\n",
    "        c = (a + b) / 2\n",
    "        if f(c) == 0:\n",
    "            return c\n",
    "        elif f(a) * f(c) < 0:\n",
    "            b = c\n",
    "        else:\n",
    "            a = c\n",
    "        \n",
    "        iter_count += 1\n",
    "    \n",
    "    return (a + b) / 2\n",
    "\n",
    "# Пример функции\n",
    "def func(x):\n",
    "    return x**3 - x - 2\n",
    "\n",
    "# Вызов метода\n",
    "root = bisection_method(func, 1, 2, tol=1e-6)\n",
    "print(f\"Найденный корень: {root}\" if root is not None else \"Корень не найден.\")"
   ]
  },
  {
   "cell_type": "markdown",
   "id": "199de26e-48c5-4a6a-bd7f-2b4b61f3a505",
   "metadata": {},
   "source": [
    "# Метод Ньютона"
   ]
  },
  {
   "cell_type": "code",
   "execution_count": 2,
   "id": "b9fd01ec-eacb-4540-bf12-f40eb5ede2de",
   "metadata": {},
   "outputs": [
    {
     "name": "stdout",
     "output_type": "stream",
     "text": [
      "Найденный корень: 1.5213797068045751\n"
     ]
    }
   ],
   "source": [
    "def newton_method(f, df, x0, tol=1e-6, max_iter=100):\n",
    "    x = x0\n",
    "    for _ in range(max_iter):\n",
    "        fx = f(x)\n",
    "        dfx = df(x)\n",
    "\n",
    "        if dfx == 0:\n",
    "            return None  # Производная не должна быть нулевой\n",
    "\n",
    "        x_new = x - fx / dfx\n",
    "\n",
    "        if abs(x_new - x) < tol:\n",
    "            return x_new\n",
    "\n",
    "        x = x_new\n",
    "    \n",
    "    return None  # Если метод не сошелся\n",
    "\n",
    "# Пример: уравнение x^3 - x - 2 = 0\n",
    "def func(x):\n",
    "    return x**3 - x - 2\n",
    "\n",
    "def dfunc(x):\n",
    "    return 3*x**2 - 1\n",
    "\n",
    "# Вызов метода\n",
    "root = newton_method(func, dfunc, x0=1.5, tol=1e-6)\n",
    "print(f\"Найденный корень: {root}\" if root is not None else \"Метод не сошелся.\")"
   ]
  },
  {
   "cell_type": "markdown",
   "id": "45653c30-873b-4fb9-aeb7-9128e3d7d00c",
   "metadata": {},
   "source": [
    "# Упрощенный метод Ньютона"
   ]
  },
  {
   "cell_type": "code",
   "execution_count": 3,
   "id": "72265c96-3b17-4d0d-9b61-5d6ea4839ff0",
   "metadata": {},
   "outputs": [
    {
     "name": "stdout",
     "output_type": "stream",
     "text": [
      "Найденный корень: 1.5213796929329069\n"
     ]
    }
   ],
   "source": [
    "def simplified_newton_method(f, df, x0, tol=1e-6, max_iter=100):\n",
    "    dfx0 = df(x0)  # Фиксируем производную в начальной точке\n",
    "    if dfx0 == 0:\n",
    "        return None\n",
    "\n",
    "    x = x0\n",
    "    for _ in range(max_iter):\n",
    "        x_new = x - f(x) / dfx0\n",
    "        if abs(x_new - x) < tol:\n",
    "            return x_new\n",
    "        x = x_new\n",
    "\n",
    "    return None\n",
    "\n",
    "# Пример функции\n",
    "def func(x):\n",
    "    return x**3 - x - 2\n",
    "\n",
    "def dfunc(x):\n",
    "    return 3*x**2 - 1\n",
    "\n",
    "# Вызов метода\n",
    "root = simplified_newton_method(func, dfunc, x0=1.5, tol=1e-6)\n",
    "print(f\"Найденный корень: {root}\" if root is not None else \"Метод не сошелся.\")"
   ]
  },
  {
   "cell_type": "code",
   "execution_count": null,
   "id": "f14e0a48-5f2f-4bcb-8377-2f768acd3d4c",
   "metadata": {},
   "outputs": [],
   "source": []
  }
 ],
 "metadata": {
  "kernelspec": {
   "display_name": "Python 3 (ipykernel)",
   "language": "python",
   "name": "python3"
  },
  "language_info": {
   "codemirror_mode": {
    "name": "ipython",
    "version": 3
   },
   "file_extension": ".py",
   "mimetype": "text/x-python",
   "name": "python",
   "nbconvert_exporter": "python",
   "pygments_lexer": "ipython3",
   "version": "3.12.3"
  }
 },
 "nbformat": 4,
 "nbformat_minor": 5
}
