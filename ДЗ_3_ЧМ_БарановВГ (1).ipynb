{
 "cells": [
  {
   "cell_type": "code",
   "execution_count": 1,
   "id": "4d8f5109-91a3-4406-8ca6-5aede01d5e6c",
   "metadata": {},
   "outputs": [
    {
     "name": "stdout",
     "output_type": "stream",
     "text": [
      "Найденный корень: 1.5213797079848717\n"
     ]
    }
   ],
   "source": [
    "def f(x):\n",
    "    return x**3 - x - 2  # Пример функции\n",
    "\n",
    "def has_root(a, b):\n",
    "    return f(a) * f(b) < 0\n",
    "\n",
    "def chord_method(a, b, eps=1e-6, max_iter=100):\n",
    "    if not has_root(a, b):\n",
    "        raise ValueError(\"На отрезке нет корня или более одного корня.\")\n",
    "    \n",
    "    x0, x1 = a, b\n",
    "    for i in range(max_iter):\n",
    "        if f(x1) - f(x0) == 0:\n",
    "            break\n",
    "        x2 = x1 - f(x1) * (x1 - x0) / (f(x1) - f(x0))\n",
    "        if abs(f(x2)) < eps:\n",
    "            return x2\n",
    "        x0, x1 = x1, x2\n",
    "    return x1\n",
    "\n",
    "# Пример использования:\n",
    "a, b = 1, 2\n",
    "if has_root(a, b):\n",
    "    root = chord_method(a, b)\n",
    "    print(f\"Найденный корень: {root}\")\n",
    "else:\n",
    "    print(\"Корень на интервале не найден\")"
   ]
  },
  {
   "cell_type": "code",
   "execution_count": null,
   "id": "185863eb-71e7-422b-8578-fc870e260050",
   "metadata": {},
   "outputs": [],
   "source": []
  }
 ],
 "metadata": {
  "kernelspec": {
   "display_name": "Python 3 (ipykernel)",
   "language": "python",
   "name": "python3"
  },
  "language_info": {
   "codemirror_mode": {
    "name": "ipython",
    "version": 3
   },
   "file_extension": ".py",
   "mimetype": "text/x-python",
   "name": "python",
   "nbconvert_exporter": "python",
   "pygments_lexer": "ipython3",
   "version": "3.12.3"
  }
 },
 "nbformat": 4,
 "nbformat_minor": 5
}
