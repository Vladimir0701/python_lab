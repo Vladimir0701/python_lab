{
 "cells": [
  {
   "cell_type": "code",
   "execution_count": null,
   "id": "4d8f5109-91a3-4406-8ca6-5aede01d5e6c",
   "metadata": {},
   "outputs": [],
   "source": []
  }
 ],
 "metadata": {
  "kernelspec": {
   "display_name": "",
   "name": ""
  },
  "language_info": {
   "name": ""
  }
 },
 "nbformat": 4,
 "nbformat_minor": 5
}
