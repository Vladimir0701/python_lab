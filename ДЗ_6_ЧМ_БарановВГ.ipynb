{
 "cells": [
  {
   "cell_type": "code",
   "execution_count": 1,
   "id": "ecb13130-db6e-447d-b6f9-9e68c0443565",
   "metadata": {},
   "outputs": [
    {
     "name": "stdout",
     "output_type": "stream",
     "text": [
      "Матрица A:\n",
      " [[4 2]\n",
      " [1 3]]\n",
      "\n",
      "Метод развертывания (через np.linalg.eig):\n",
      "Собственные значения:\n",
      "[5. 2.]\n",
      "Собственные векторы (столбцы):\n",
      " [[ 0.89442719 -0.70710678]\n",
      " [ 0.4472136   0.70710678]]\n",
      "\n",
      "Степенной метод:\n",
      "Приближённое наибольшее собственное значение: 5.000000000093691\n",
      "Приближённый собственный вектор: [0.89442719 0.4472136 ]\n"
     ]
    }
   ],
   "source": [
    "import numpy as np\n",
    "\n",
    "# Исходная матрица\n",
    "A = np.array([\n",
    "    [4, 2],\n",
    "    [1, 3]\n",
    "])\n",
    "\n",
    "print(\"Матрица A:\\n\", A)\n",
    "\n",
    "# --- 1. Метод непосредственного развертывания (через eig) ---\n",
    "eigvals, eigvecs = np.linalg.eig(A)\n",
    "\n",
    "print(\"\\nМетод развертывания (через np.linalg.eig):\")\n",
    "print(\"Собственные значения:\")\n",
    "print(eigvals)\n",
    "print(\"Собственные векторы (столбцы):\\n\", eigvecs)\n",
    "\n",
    "# --- 2. Метод итераций (степенной метод) ---\n",
    "def power_iteration(matrix, max_iter=1000, tol=1e-10):\n",
    "    n = matrix.shape[0]\n",
    "    vec = np.random.rand(n)\n",
    "    \n",
    "    for _ in range(max_iter):\n",
    "        next_vec = np.dot(matrix, vec)\n",
    "        next_vec /= np.linalg.norm(next_vec)\n",
    "        if np.linalg.norm(next_vec - vec) < tol:\n",
    "            break\n",
    "        vec = next_vec\n",
    "\n",
    "    # Приближённое собственное значение через лучевое отношение\n",
    "    lambda_approx = np.dot(vec.T, np.dot(matrix, vec))\n",
    "    return lambda_approx, vec\n",
    "\n",
    "approx_val, approx_vec = power_iteration(A)\n",
    "\n",
    "print(\"\\nСтепенной метод:\")\n",
    "print(\"Приближённое наибольшее собственное значение:\", approx_val)\n",
    "print(\"Приближённый собственный вектор:\", approx_vec)"
   ]
  },
  {
   "cell_type": "code",
   "execution_count": null,
   "id": "49a94b5e-8ad4-4023-bfd4-0ce7a6b963fe",
   "metadata": {},
   "outputs": [],
   "source": []
  }
 ],
 "metadata": {
  "kernelspec": {
   "display_name": "Python 3 (ipykernel)",
   "language": "python",
   "name": "python3"
  },
  "language_info": {
   "codemirror_mode": {
    "name": "ipython",
    "version": 3
   },
   "file_extension": ".py",
   "mimetype": "text/x-python",
   "name": "python",
   "nbconvert_exporter": "python",
   "pygments_lexer": "ipython3",
   "version": "3.12.3"
  }
 },
 "nbformat": 4,
 "nbformat_minor": 5
}
