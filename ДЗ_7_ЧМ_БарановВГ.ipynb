{
 "cells": [
  {
   "cell_type": "code",
   "execution_count": 2,
   "id": "e71f8081-4ea4-40e1-a02c-4e3ba238a0b5",
   "metadata": {},
   "outputs": [
    {
     "name": "stdout",
     "output_type": "stream",
     "text": [
      "Входная матрица:\n",
      " [[5 1 2]\n",
      " [1 4 1]\n",
      " [2 1 3]]\n",
      "\n",
      "Найденные собственные значения:\n",
      "[6.89510652 3.39729507 1.70759841]\n",
      "\n",
      "Соответствующие собственные векторы:\n",
      "[[ 0.75257583 -0.45794385 -0.47319874]\n",
      " [ 0.43170413  0.88573564 -0.17059871]\n",
      " [ 0.49725362 -0.07589338  0.86427949]]\n"
     ]
    }
   ],
   "source": [
    "import numpy as np\n",
    "\n",
    "def jacobi_rotation_solver(M, tol=1e-10, limit=100):\n",
    "    dim = M.shape[0]\n",
    "\n",
    "    if not np.allclose(M, M.T, atol=1e-12):\n",
    "        raise ValueError(\"Ожидается симметричная матрица.\")\n",
    "\n",
    "    eig_vecs = np.identity(dim)\n",
    "    matrix = M.copy()\n",
    "\n",
    "    for iteration in range(limit):\n",
    "        # Поиск максимального вне диагонали\n",
    "        off_diag_max = 0.0\n",
    "        row, col = 0, 1\n",
    "        for i in range(dim):\n",
    "            for j in range(i + 1, dim):\n",
    "                if abs(matrix[i, j]) > off_diag_max:\n",
    "                    off_diag_max = abs(matrix[i, j])\n",
    "                    row, col = i, j\n",
    "\n",
    "        if off_diag_max < tol:\n",
    "            break\n",
    "\n",
    "        delta = matrix[row, row] - matrix[col, col]\n",
    "        if delta == 0:\n",
    "            theta = np.pi / 4\n",
    "        else:\n",
    "            theta = 0.5 * np.arctan2(2 * matrix[row, col], delta)\n",
    "\n",
    "        rot = np.identity(dim)\n",
    "        cos_theta = np.cos(theta)\n",
    "        sin_theta = np.sin(theta)\n",
    "\n",
    "        rot[row, row] = cos_theta\n",
    "        rot[col, col] = cos_theta\n",
    "        rot[row, col] = -sin_theta\n",
    "        rot[col, row] = sin_theta\n",
    "\n",
    "        matrix = rot.T @ matrix @ rot\n",
    "        eig_vecs = eig_vecs @ rot\n",
    "\n",
    "    eig_vals = np.diagonal(matrix)\n",
    "    return eig_vals, eig_vecs\n",
    "\n",
    "# Пример\n",
    "B = np.array([\n",
    "    [5, 1, 2],\n",
    "    [1, 4, 1],\n",
    "    [2, 1, 3]\n",
    "])\n",
    "\n",
    "print(\"Входная матрица:\\n\", B)\n",
    "\n",
    "vals, vecs = jacobi_rotation_solver(B)\n",
    "\n",
    "print(\"\\nНайденные собственные значения:\")\n",
    "print(vals)\n",
    "\n",
    "print(\"\\nСоответствующие собственные векторы:\")\n",
    "print(vecs)"
   ]
  },
  {
   "cell_type": "code",
   "execution_count": null,
   "id": "578c14ce-3278-46c0-94b9-bc44acf5a541",
   "metadata": {},
   "outputs": [],
   "source": []
  }
 ],
 "metadata": {
  "kernelspec": {
   "display_name": "Python 3 (ipykernel)",
   "language": "python",
   "name": "python3"
  },
  "language_info": {
   "codemirror_mode": {
    "name": "ipython",
    "version": 3
   },
   "file_extension": ".py",
   "mimetype": "text/x-python",
   "name": "python",
   "nbconvert_exporter": "python",
   "pygments_lexer": "ipython3",
   "version": "3.12.3"
  }
 },
 "nbformat": 4,
 "nbformat_minor": 5
}
