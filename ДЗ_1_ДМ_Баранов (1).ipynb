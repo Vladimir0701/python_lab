{
 "cells": [
  {
   "cell_type": "markdown",
   "id": "56f98bfd-431e-4ef4-9ab3-3351e4326fef",
   "metadata": {},
   "source": [
    "## 1 задание"
   ]
  },
  {
   "cell_type": "code",
   "execution_count": 1,
   "id": "63c22409-63fb-4f41-b511-845c23fbe8f7",
   "metadata": {},
   "outputs": [
    {
     "name": "stdout",
     "output_type": "stream",
     "text": [
      "Мощность объединения A и B: 6\n"
     ]
    }
   ],
   "source": [
    "# Ввод данных\n",
    "A = {1, 2, 3, 4}\n",
    "B = {3, 4, 5, 6}\n",
    "\n",
    "# Вычисление мощности объединения\n",
    "power_union = len(A | B)\n",
    "\n",
    "# Вывод результата\n",
    "print(\"Мощность объединения A и B:\", power_union)"
   ]
  },
  {
   "cell_type": "markdown",
   "id": "a1a27b62-b77f-4da5-abd5-2f3f6e5db121",
   "metadata": {},
   "source": [
    "## 2 задание"
   ]
  },
  {
   "cell_type": "code",
   "execution_count": 3,
   "id": "8a928381-e79d-4068-8ce7-f7bdb9721ca4",
   "metadata": {},
   "outputs": [
    {
     "name": "stdout",
     "output_type": "stream",
     "text": [
      "Мощность симметрической разности A и B: 4\n"
     ]
    }
   ],
   "source": [
    "# Ввод данных\n",
    "A = {1, 2, 3, 4}\n",
    "B = {3, 4, 5, 6}\n",
    "\n",
    "# Вычисление мощности симметрической разности\n",
    "power_sym_diff = len(A ^ B)\n",
    "\n",
    "# Вывод результата\n",
    "print(\"Мощность симметрической разности A и B:\", power_sym_diff)"
   ]
  },
  {
   "cell_type": "markdown",
   "id": "dc6f4170-9bf0-4290-b2d6-95d3cbd975e3",
   "metadata": {},
   "source": [
    "## 3 задание"
   ]
  },
  {
   "cell_type": "code",
   "execution_count": 4,
   "id": "90aa7bfa-b015-4cb4-ade9-44f95fe6fc88",
   "metadata": {},
   "outputs": [
    {
     "name": "stdout",
     "output_type": "stream",
     "text": [
      "Мощность объединения A, B и C: 9\n"
     ]
    }
   ],
   "source": [
    "# Ввод данных\n",
    "A = {1, 2, 3, 4}\n",
    "B = {3, 4, 5, 6}\n",
    "C = {6, 7, 8, 9}\n",
    "\n",
    "# Вычисление мощности объединения\n",
    "power_union_three = len(A | B | C)\n",
    "\n",
    "# Вывод результата\n",
    "print(\"Мощность объединения A, B и C:\", power_union_three)"
   ]
  },
  {
   "cell_type": "markdown",
   "id": "5ef05895-ee27-4a6b-8359-6c9f55d58728",
   "metadata": {},
   "source": [
    "## 4 задание"
   ]
  },
  {
   "cell_type": "code",
   "execution_count": 5,
   "id": "5288001d-7a50-46e4-b67c-69cee1eb8ab0",
   "metadata": {},
   "outputs": [
    {
     "name": "stdout",
     "output_type": "stream",
     "text": [
      "Мощность симметрической разности A, B и C: 6\n"
     ]
    }
   ],
   "source": [
    "# Ввод данных\n",
    "A = {1, 2, 3, 4}\n",
    "B = {3, 4, 5, 6}\n",
    "C = {6, 7, 8, 9}\n",
    "\n",
    "# Вычисление мощности симметрической разности\n",
    "power_sym_diff_three = len(A ^ B ^ C)\n",
    "\n",
    "# Вывод результата\n",
    "print(\"Мощность симметрической разности A, B и C:\", power_sym_diff_three)"
   ]
  },
  {
   "cell_type": "code",
   "execution_count": null,
   "id": "0db82251-0fee-49a7-9ac1-e4aef5a3496c",
   "metadata": {},
   "outputs": [],
   "source": []
  }
 ],
 "metadata": {
  "kernelspec": {
   "display_name": "Python 3 (ipykernel)",
   "language": "python",
   "name": "python3"
  },
  "language_info": {
   "codemirror_mode": {
    "name": "ipython",
    "version": 3
   },
   "file_extension": ".py",
   "mimetype": "text/x-python",
   "name": "python",
   "nbconvert_exporter": "python",
   "pygments_lexer": "ipython3",
   "version": "3.12.3"
  }
 },
 "nbformat": 4,
 "nbformat_minor": 5
}
