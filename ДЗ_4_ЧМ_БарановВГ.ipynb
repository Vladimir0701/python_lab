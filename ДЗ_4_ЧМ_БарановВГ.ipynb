{
 "cells": [
  {
   "cell_type": "code",
   "execution_count": 1,
   "metadata": {},
   "outputs": [],
   "source": [
    "import numpy as np"
   ]
  },
  {
   "cell_type": "markdown",
   "metadata": {},
   "source": [
    "### Простой метод Гаусса"
   ]
  },
  {
   "cell_type": "code",
   "execution_count": 2,
   "metadata": {},
   "outputs": [],
   "source": [
    "import numpy as np\n",
    "\n",
    "def gauss_solve(matrix, rhs):\n",
    "    \"\"\"\n",
    "    Решение системы линейных уравнений методом Гаусса (без выбора главного элемента).\n",
    "    \n",
    "    Аргументы:\n",
    "    matrix : numpy.ndarray\n",
    "        Матрица коэффициентов (должна быть квадратной).\n",
    "    rhs : numpy.ndarray\n",
    "        Вектор свободных членов.\n",
    "    \n",
    "    Возвращает:\n",
    "    numpy.ndarray\n",
    "        Решение системы уравнений.\n",
    "    \"\"\"\n",
    "    matrix = matrix.astype(float)\n",
    "    rhs = rhs.astype(float)\n",
    "    size = len(rhs)\n",
    "    \n",
    "    # Прямой ход\n",
    "    for pivot in range(size):\n",
    "        if abs(matrix[pivot, pivot]) < 1e-10:\n",
    "            raise ValueError(\"Опорный элемент слишком мал или равен нулю.\")\n",
    "        for row in range(pivot + 1, size):\n",
    "            multiplier = matrix[row, pivot] / matrix[pivot, pivot]\n",
    "            matrix[row, pivot:] -= multiplier * matrix[pivot, pivot:]\n",
    "            rhs[row] -= multiplier * rhs[pivot]\n",
    "    \n",
    "    # Обратная подстановка\n",
    "    solution = np.zeros(size)\n",
    "    for idx in range(size - 1, -1, -1):\n",
    "        temp_sum = np.dot(matrix[idx, idx + 1:], solution[idx + 1:])\n",
    "        solution[idx] = (rhs[idx] - temp_sum) / matrix[idx, idx]\n",
    "    \n",
    "    return solution"
   ]
  },
  {
   "cell_type": "code",
   "execution_count": 3,
   "metadata": {},
   "outputs": [
    {
     "name": "stdout",
     "output_type": "stream",
     "text": [
      "Решение системы (простой метод Гаусса): [ 2.  3. -1.]\n"
     ]
    }
   ],
   "source": [
    "A = np.array([[2, 1, -1],\n",
    "                [-3, -1, 2],\n",
    "                [-2, 1, 2]])\n",
    "b = np.array([8, -11, -3])\n",
    "try:\n",
    "    solution = gauss_solve(A, b)\n",
    "    print(\"Решение системы (простой метод Гаусса):\", solution)\n",
    "except ValueError as e:\n",
    "    print(\"Ошибка:\", e)"
   ]
  },
  {
   "cell_type": "markdown",
   "metadata": {},
   "source": [
    "### Метод Жордана-Гаусса"
   ]
  },
  {
   "cell_type": "code",
   "execution_count": 4,
   "metadata": {},
   "outputs": [],
   "source": [
    "import numpy as np\n",
    "\n",
    "def solve_by_gauss_jordan(coeffs, constants):\n",
    "    \"\"\"\n",
    "    Метод Жордана-Гаусса для решения системы линейных уравнений.\n",
    "    \n",
    "    Аргументы:\n",
    "    coeffs : numpy.ndarray\n",
    "        Квадратная матрица коэффициентов.\n",
    "    constants : numpy.ndarray\n",
    "        Вектор свободных членов.\n",
    "    \n",
    "    Возвращает:\n",
    "    numpy.ndarray\n",
    "        Вектор решений системы.\n",
    "    \n",
    "    Исключения:\n",
    "    ValueError: При вырожденности матрицы или почти нулевом ведущем элементе.\n",
    "    \"\"\"\n",
    "    coeffs = coeffs.astype(float)\n",
    "    constants = constants.astype(float)\n",
    "    dim = len(constants)\n",
    "\n",
    "    # Объединяем коэффициенты и свободные члены в расширенную матрицу\n",
    "    augmented = np.concatenate((coeffs, constants.reshape(-1, 1)), axis=1)\n",
    "\n",
    "    for col in range(dim):\n",
    "        # Поиск строки с максимальным значением по модулю в текущем столбце\n",
    "        pivot_row = col + np.argmax(np.abs(augmented[col:, col]))\n",
    "        augmented[[col, pivot_row]] = augmented[[pivot_row, col]]\n",
    "\n",
    "        # Проверка на вырождение\n",
    "        if abs(augmented[col, col]) < 1e-10:\n",
    "            raise ValueError(\"Система не имеет единственного решения или матрица вырождена.\")\n",
    "        \n",
    "        # Нормализация текущей строки\n",
    "        augmented[col] /= augmented[col, col]\n",
    "\n",
    "        # Обнуление всех остальных значений в текущем столбце\n",
    "        for row in range(dim):\n",
    "            if row != col:\n",
    "                coeff = augmented[row, col]\n",
    "                augmented[row] -= coeff * augmented[col]\n",
    "\n",
    "    # Последний столбец содержит решение\n",
    "    return augmented[:, -1]"
   ]
  },
  {
   "cell_type": "code",
   "execution_count": 5,
   "metadata": {},
   "outputs": [
    {
     "name": "stdout",
     "output_type": "stream",
     "text": [
      "Решение системы (метод Жордана-Гаусса): [ 2.  3. -1.]\n"
     ]
    }
   ],
   "source": [
    "\n",
    "# Задаем систему уравнений:\n",
    "A = np.array([[2, 1, -1],\n",
    "                [-3, -1, 2],\n",
    "                [-2, 1, 2]])\n",
    "b = np.array([8, -11, -3])\n",
    "\n",
    "try:\n",
    "    solution = solve_by_gauss_jordan(A, b)\n",
    "    print(\"Решение системы (метод Жордана-Гаусса):\", solution)\n",
    "except ValueError as e:\n",
    "    print(\"Ошибка:\", e)"
   ]
  },
  {
   "cell_type": "markdown",
   "metadata": {},
   "source": [
    "### Метод Гаусса с методом исключения"
   ]
  },
  {
   "cell_type": "code",
   "execution_count": 6,
   "metadata": {},
   "outputs": [],
   "source": [
    "import numpy as np\n",
    "\n",
    "def pivot_gauss_solver(mat, vec):\n",
    "    \"\"\"\n",
    "    Решение системы линейных уравнений методом Гаусса с выбором главного элемента.\n",
    "    \n",
    "    Аргументы:\n",
    "    mat : numpy.ndarray\n",
    "        Квадратная матрица коэффициентов.\n",
    "    vec : numpy.ndarray\n",
    "        Вектор свободных членов.\n",
    "    \n",
    "    Возвращает:\n",
    "    numpy.ndarray\n",
    "        Решение системы в виде одномерного массива.\n",
    "    \"\"\"\n",
    "    mat = mat.astype(float)\n",
    "    vec = vec.astype(float)\n",
    "    size = len(vec)\n",
    "\n",
    "    # Прямой ход с частичным выбором ведущего элемента\n",
    "    for step in range(size):\n",
    "        # Нахождение строки с наибольшим по модулю элементом в текущем столбце\n",
    "        lead = step + np.argmax(np.abs(mat[step:, step]))\n",
    "        # Перестановка строк для повышения устойчивости\n",
    "        mat[[step, lead]] = mat[[lead, step]]\n",
    "        vec[step], vec[lead] = vec[lead], vec[step]\n",
    "\n",
    "        if abs(mat[step, step]) < 1e-10:\n",
    "            raise ValueError(\"Невозможно решить систему: матрица почти вырождена.\")\n",
    "\n",
    "        # Преобразование строк ниже\n",
    "        for row in range(step + 1, size):\n",
    "            coeff = mat[row, step] / mat[step, step]\n",
    "            mat[row, step:] -= coeff * mat[step, step:]\n",
    "            vec[row] -= coeff * vec[step]\n",
    "\n",
    "    # Обратная подстановка\n",
    "    result = np.zeros(size)\n",
    "    for idx in range(size - 1, -1, -1):\n",
    "        subtotal = np.dot(mat[idx, idx + 1:], result[idx + 1:])\n",
    "        result[idx] = (vec[idx] - subtotal) / mat[idx, idx]\n",
    "\n",
    "    return result"
   ]
  },
  {
   "cell_type": "code",
   "execution_count": 7,
   "metadata": {},
   "outputs": [
    {
     "name": "stdout",
     "output_type": "stream",
     "text": [
      "Решение системы (с выбором опорного элемента): [ 2.  3. -1.]\n"
     ]
    }
   ],
   "source": [
    "A = np.array([[2, 1, -1],\n",
    "                [-3, -1, 2],\n",
    "                [-2, 1, 2]])\n",
    "b = np.array([8, -11, -3])\n",
    "try:\n",
    "    solution = pivot_gauss_solver(A, b)\n",
    "    print(\"Решение системы (с выбором опорного элемента):\", solution)\n",
    "except ValueError as e:\n",
    "    print(\"Ошибка:\", e)"
   ]
  },
  {
   "cell_type": "markdown",
   "metadata": {},
   "source": [
    "### Метод LU-Разложения"
   ]
  },
  {
   "cell_type": "code",
   "execution_count": 12,
   "metadata": {},
   "outputs": [],
   "source": [
    "def lu_decomposition(A):\n",
    "    \"\"\"\n",
    "    Выполняет LU-разложение матрицы A методом Дулитла.\n",
    "    Предполагается, что A - квадратная матрица и ее LU-разложение существует.\n",
    "    \n",
    "    Возвращает:\n",
    "        L : нижнетреугольная матрица с единичными элементами на диагонали.\n",
    "        U : верхнетреугольная матрица.\n",
    "    \n",
    "    Исключение:\n",
    "        ValueError, если на диагонали U оказывается элемент, близкий к нулю.\n",
    "    \"\"\"\n",
    "    A = A.astype(float)\n",
    "    n = A.shape[0]\n",
    "    L = np.eye(n, dtype=float)  # Инициализируем L как единичную матрицу\n",
    "    U = np.zeros((n, n), dtype=float)\n",
    "\n",
    "    for i in range(n):\n",
    "        # Вычисляем i-ю строку U\n",
    "        for j in range(i, n):\n",
    "            sum_u = sum(L[i, k] * U[k, j] for k in range(i))\n",
    "            U[i, j] = A[i, j] - sum_u\n",
    "        \n",
    "        # Проверка на нулевой опорный элемент в U[i, i]\n",
    "        if abs(U[i, i]) < 1e-12:\n",
    "            raise ValueError(\"Нулевой опорный элемент обнаружен. LU-разложение невозможно.\")\n",
    "        \n",
    "        # Вычисляем i-й столбец L\n",
    "        for j in range(i+1, n):\n",
    "            sum_l = sum(L[j, k] * U[k, i] for k in range(i))\n",
    "            L[j, i] = (A[j, i] - sum_l) / U[i, i]\n",
    "    \n",
    "    return L, U\n",
    "\n",
    "def forward_substitution(L, b):\n",
    "    \"\"\"\n",
    "    Решает систему Ly = b методом прямой подстановки.\n",
    "    \n",
    "    Возвращает:\n",
    "        y : вектор-решение.\n",
    "    \"\"\"\n",
    "    n = L.shape[0]\n",
    "    y = np.zeros(n, dtype=float)\n",
    "    for i in range(n):\n",
    "        y[i] = b[i] - sum(L[i, j] * y[j] for j in range(i))\n",
    "    return y\n",
    "\n",
    "def backward_substitution(U, y):\n",
    "    \"\"\"\n",
    "    Решает систему Ux = y методом обратной подстановки.\n",
    "    \n",
    "    Возвращает:\n",
    "        x : вектор-решение.\n",
    "    \"\"\"\n",
    "    n = U.shape[0]\n",
    "    x = np.zeros(n, dtype=float)\n",
    "    for i in reversed(range(n)):\n",
    "        x[i] = (y[i] - sum(U[i, j] * x[j] for j in range(i+1, n))) / U[i, i]\n",
    "    return x\n",
    "\n",
    "def lu_solve(A, b):\n",
    "    \"\"\"\n",
    "    Решает систему линейных уравнений Ax = b с помощью LU-разложения.\n",
    "    \n",
    "    Параметры:\n",
    "        A : numpy.ndarray\n",
    "            Квадратная матрица коэффициентов.\n",
    "        b : numpy.ndarray\n",
    "            Вектор правых частей.\n",
    "    \n",
    "    Возвращает:\n",
    "        x : numpy.ndarray\n",
    "            Вектор решения системы.\n",
    "    \"\"\"\n",
    "    L, U = lu_decomposition(A)\n",
    "    y = forward_substitution(L, b)\n",
    "    x = backward_substitution(U, y)\n",
    "    return x"
   ]
  },
  {
   "cell_type": "code",
   "execution_count": 13,
   "metadata": {},
   "outputs": [
    {
     "name": "stdout",
     "output_type": "stream",
     "text": [
      "Решение системы (LU-разложение): [ 2.  3. -1.]\n"
     ]
    }
   ],
   "source": [
    "# Определяем матрицу коэффициентов A и вектор правых частей b\n",
    "A = np.array([[2, 1, -1],\n",
    "                [-3, -1, 2],\n",
    "                [-2, 1, 2]])\n",
    "b = np.array([8, -11, -3])\n",
    "\n",
    "try:\n",
    "    solution = lu_solve(A, b)\n",
    "    print(\"Решение системы (LU-разложение):\", solution)\n",
    "except ValueError as e:\n",
    "    print(\"Ошибка:\", e)"
   ]
  }
 ],
 "metadata": {
  "kernelspec": {
   "display_name": "Python 3 (ipykernel)",
   "language": "python",
   "name": "python3"
  },
  "language_info": {
   "codemirror_mode": {
    "name": "ipython",
    "version": 3
   },
   "file_extension": ".py",
   "mimetype": "text/x-python",
   "name": "python",
   "nbconvert_exporter": "python",
   "pygments_lexer": "ipython3",
   "version": "3.12.3"
  }
 },
 "nbformat": 4,
 "nbformat_minor": 4
}
